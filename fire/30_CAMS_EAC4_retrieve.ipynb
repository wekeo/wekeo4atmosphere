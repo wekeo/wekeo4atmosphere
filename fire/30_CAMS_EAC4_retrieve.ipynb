{
 "cells": [
  {
   "cell_type": "markdown",
   "metadata": {
    "heading_collapsed": "false"
   },
   "source": [
    "<img src='../img/LogoWekeo_Copernicus_RGB_0.png' alt='Logo EU Copernicus EUMETSAT' align='right' width='10%'></img>"
   ]
  },
  {
   "cell_type": "markdown",
   "metadata": {},
   "source": [
    "# Copernicus Atmosphere Monitoring Service (CAMS) Global Reanalysis (EAC4) - Retrieve"
   ]
  },
  {
   "cell_type": "markdown",
   "metadata": {
    "heading_collapsed": "false"
   },
   "source": [
    "The example below illustrates step-by-step how global reanalysis data from the Copernicus Atmosphere Monitoring Service (CAMS) can be retrieved from WEkEO with the help of the [WEkEO HDA API client](https://github.com/ecmwf/hda). The notebook shows how to retrieve `Organic matter aerosol optical depth` from the CAMS global reanalysis dataset from 12. August 2021.\n",
    "\n",
    "The HDA API workflow is a six-step process:\n",
    " - [1. Install the WEkEO HDA client](#wekeo_hda_install)\n",
    " - [2. Search for datasets on WEkEO](#wekeo_search)\n",
    " - [3. Get the API request](#wekeo_api_request)\n",
    " - [4. Configure the WEkEO API Authentication](#wekeo_hda_auth)\n",
    " - [5. Load data descriptor file and request data](#wekeo_json)\n",
    " - [6. Download requested data](#wekeo_download)"
   ]
  },
  {
   "cell_type": "markdown",
   "metadata": {},
   "source": [
    "All steps have to be performed in order to be able to retrieve data from WEkEO."
   ]
  },
  {
   "cell_type": "markdown",
   "metadata": {},
   "source": [
    "<hr>"
   ]
  },
  {
   "cell_type": "markdown",
   "metadata": {},
   "source": [
    "#### Load required libraries"
   ]
  },
  {
   "cell_type": "code",
   "execution_count": 1,
   "metadata": {},
   "outputs": [],
   "source": [
    "import json"
   ]
  },
  {
   "cell_type": "markdown",
   "metadata": {},
   "source": [
    "<hr>"
   ]
  },
  {
   "cell_type": "markdown",
   "metadata": {},
   "source": [
    "### <a id='wekeo_hda_install'></a>1. Install the WEkEO HDA client"
   ]
  },
  {
   "cell_type": "markdown",
   "metadata": {},
   "source": [
    "The [WEkEO HDA API client](https://github.com/ecmwf/hda) is a Python library that can be used to search and download products using the Harmonized Data Access WEkEO API. You can install the WEkEO HDA API client via with the following command:"
   ]
  },
  {
   "cell_type": "code",
   "execution_count": 2,
   "metadata": {},
   "outputs": [
    {
     "name": "stdout",
     "output_type": "stream",
     "text": [
      "Requirement already satisfied: hda in /opt/conda/lib/python3.8/site-packages (1.15)\n",
      "Requirement already satisfied: requests>=2.5.0 in /opt/conda/lib/python3.8/site-packages (from hda) (2.28.2)\n",
      "Requirement already satisfied: tqdm in /opt/conda/lib/python3.8/site-packages (from hda) (4.65.0)\n",
      "Requirement already satisfied: idna<4,>=2.5 in /opt/conda/lib/python3.8/site-packages (from requests>=2.5.0->hda) (3.4)\n",
      "Requirement already satisfied: urllib3<1.27,>=1.21.1 in /opt/conda/lib/python3.8/site-packages (from requests>=2.5.0->hda) (1.26.15)\n",
      "Requirement already satisfied: charset-normalizer<4,>=2 in /opt/conda/lib/python3.8/site-packages (from requests>=2.5.0->hda) (3.1.0)\n",
      "Requirement already satisfied: certifi>=2017.4.17 in /opt/conda/lib/python3.8/site-packages (from requests>=2.5.0->hda) (2022.12.7)\n",
      "Note: you may need to restart the kernel to use updated packages.\n"
     ]
    }
   ],
   "source": [
    "pip install -U hda"
   ]
  },
  {
   "cell_type": "markdown",
   "metadata": {
    "tags": []
   },
   "source": [
    "#### Load the WEkEO HDA API client"
   ]
  },
  {
   "cell_type": "markdown",
   "metadata": {},
   "source": [
    "Once the package is installed, you can import it."
   ]
  },
  {
   "cell_type": "code",
   "execution_count": 2,
   "metadata": {},
   "outputs": [],
   "source": [
    "import hda"
   ]
  },
  {
   "cell_type": "markdown",
   "metadata": {},
   "source": [
    "<hr>"
   ]
  },
  {
   "cell_type": "markdown",
   "metadata": {},
   "source": [
    "### <a id='wekeo_search'></a>2. Search for datasets on WEkEO"
   ]
  },
  {
   "cell_type": "markdown",
   "metadata": {},
   "source": [
    "Under <a href='https://www.wekeo.eu/data' target=\"_blank\">WEkEO DATA</a>, you can search all datasets available on WEkEO. To add additional layers, you have to click on the `+` sign, which opens the `Catalogue` interface.\n",
    "There are two search options:<br> \n",
    "- a `free keyword search`, and \n",
    "- a pre-defined `predefined keyword search`, that helps to filter the data based on `area`, `platform`, `data provider` and more.<br> \n",
    "\n",
    "Under `PLATFORM`, you can select *`CAMS (Atmosphere)`* and retrieve several listings. For fire monitoring, we are interested in the **CAMS global EAC4 reanalysis** data. You can either directly add the data to the map or you can click on `Details`, which opens a dataset description.\n",
    "\n",
    " \n",
    "\n",
    "<br>\n",
    "\n",
    "\n",
    "<img src='../img/wekeo_interface_cams_1.png' width='80%' />"
   ]
  },
  {
   "cell_type": "markdown",
   "metadata": {},
   "source": [
    "### <a id='wekeo_api_request'></a>3. Get the API request"
   ]
  },
  {
   "cell_type": "markdown",
   "metadata": {},
   "source": [
    "When a layer is added to the map, you can select the download icon, which opens an interface that allows you to tailor your data request.\n",
    "For CAMS global reanalysis (EAC4) data, the following information can be selected:\n",
    "* `Bounding box`\n",
    "* `Date`\n",
    "* `Variable`\n",
    "* `Pressure level`\n",
    "* `Model level`\n",
    "* `Time`\n",
    "* `Format`\n",
    "\n",
    "Once you made your selection, you can either directly request the data or you can click on `Show API request`, which opens a window with the HDA API request for the specific data selection.\n",
    "\n",
    "\n",
    "<br>\n",
    "\n",
    "<img src='../img/wekeo_interface_cams_2.png' width='70%' />\n",
    "\n",
    "<br>"
   ]
  },
  {
   "cell_type": "markdown",
   "metadata": {},
   "source": [
    "`Copy` the API request and save it as a `JSON` file. We did the same and you can open the `data descriptor` file for CAMS global reanalysis (EAC4) [here](./cams_eac4_data_descriptor.json)."
   ]
  },
  {
   "cell_type": "markdown",
   "metadata": {},
   "source": [
    "### <a id='wekeo_hda_auth'></a>4. Configure the WEkEO API Authentication"
   ]
  },
  {
   "cell_type": "markdown",
   "metadata": {},
   "source": [
    "As a first step, make sure to register via the the [WEkEO registration page](https://my.wekeo.eu/web/guest/user-registratio)."
   ]
  },
  {
   "cell_type": "markdown",
   "metadata": {},
   "source": [
    "In the next step, you can use your username and password and set your credentials. The HDA client requires your authentication to WEkEO. You can set your credentials with the function `hda.Configuration()`."
   ]
  },
  {
   "cell_type": "code",
   "execution_count": null,
   "metadata": {},
   "outputs": [],
   "source": [
    "c = hda.Client(hda.Configuration(user=\"##################\",\n",
    "                                 password=\"##################\"))"
   ]
  },
  {
   "cell_type": "markdown",
   "metadata": {},
   "source": [
    "### <a id='wekeo_json'></a>5. Load data descriptor file and request data"
   ]
  },
  {
   "cell_type": "markdown",
   "metadata": {},
   "source": [
    "The Harmonised Data Access API can read your data request from a `JSON` file. In this JSON-based file, you can describe the dataset you are interested in downloading. The file is in principle a dictionary. The following keys can be defined:\n",
    "- `datasetID`: the dataset's collection ID\n",
    "- `stringChoiceValues`: type of dataset, e.g. 'processing level' or 'product type'\n",
    "- `dataRangeSelectValues`: time period you would like to retrieve data\n",
    "- `boundingBoxValues`: optional to define a subset of a global field\n",
    "\n",
    "You can load the `JSON` file with `json.load()`."
   ]
  },
  {
   "cell_type": "code",
   "execution_count": 4,
   "metadata": {},
   "outputs": [
    {
     "data": {
      "text/plain": [
       "{'datasetId': 'EO:ECMWF:DAT:CAMS_GLOBAL_REANALYSIS_EAC4',\n",
       " 'dateRangeSelectValues': [{'name': 'date',\n",
       "   'start': '2021-08-12T00:00:00.000Z',\n",
       "   'end': '2021-08-12T00:00:00.000Z'}],\n",
       " 'multiStringSelectValues': [{'name': 'variable',\n",
       "   'value': ['organic_matter_aerosol_optical_depth_550nm']},\n",
       "  {'name': 'time',\n",
       "   'value': ['00:00',\n",
       "    '03:00',\n",
       "    '06:00',\n",
       "    '09:00',\n",
       "    '12:00',\n",
       "    '15:00',\n",
       "    '18:00',\n",
       "    '21:00']}],\n",
       " 'stringChoiceValues': [{'name': 'format', 'value': 'netcdf'}]}"
      ]
     },
     "execution_count": 4,
     "metadata": {},
     "output_type": "execute_result"
    }
   ],
   "source": [
    "with open('./cams_eac4_data_descriptor.json', 'r') as f:\n",
    "    data = json.load(f)\n",
    "data"
   ]
  },
  {
   "cell_type": "markdown",
   "metadata": {},
   "source": [
    "### <a id='wekeo_download'></a>6. Download requested data"
   ]
  },
  {
   "cell_type": "markdown",
   "metadata": {},
   "source": [
    "As a final step, you can use directly the client `c` to first search for available datasets with the function `search`."
   ]
  },
  {
   "cell_type": "code",
   "execution_count": 5,
   "metadata": {},
   "outputs": [
    {
     "name": "stdout",
     "output_type": "stream",
     "text": [
      "SearchResults[items=1,volume=1.8MB,jobId=-fBYLQrSYTz_VVrE_Lz-hC2xODQ]\n"
     ]
    }
   ],
   "source": [
    "matches = c.search(data)\n",
    "print(matches)"
   ]
  },
  {
   "cell_type": "markdown",
   "metadata": {},
   "source": [
    "The dataset search above resulted in one dataset found. You can download the dataset with the function `download`. You can also specify a folder in which the datasets shall be downloaded to."
   ]
  },
  {
   "cell_type": "code",
   "execution_count": 6,
   "metadata": {},
   "outputs": [
    {
     "name": "stderr",
     "output_type": "stream",
     "text": [
      "                                                    \r"
     ]
    }
   ],
   "source": [
    "matches.download('./data/')"
   ]
  },
  {
   "cell_type": "markdown",
   "metadata": {},
   "source": [
    "Go to the next notebook ([31_CAMS_EAC4_explore](./31_CAMS_EAC4_explore.ipynb)) to see how you can load and visualise CAMS global reanalysis data."
   ]
  },
  {
   "cell_type": "markdown",
   "metadata": {
    "heading_collapsed": "false"
   },
   "source": [
    "<hr>"
   ]
  }
 ],
 "metadata": {
  "author": "Julia Wagemann",
  "description": "This notebook shows you how to retrieve global reanalysis data from the Copernicus Atmosphere Monitoring Service with the HDA API.",
  "image": "../img/img_03.png",
  "kernelspec": {
   "display_name": "Python 3",
   "language": "python",
   "name": "python3"
  },
  "language_info": {
   "codemirror_mode": {
    "name": "ipython",
    "version": 3
   },
   "file_extension": ".py",
   "mimetype": "text/x-python",
   "name": "python",
   "nbconvert_exporter": "python",
   "pygments_lexer": "ipython3",
   "version": "3.7.0"
  },
  "services": {
   "wekeo": {
    "git": {
     "link": "https://github.com/wekeo/wekeo4atmosphere/blob/main/fire/30_CAMS_EAC4_retrieve.ipynb",
     "service_contact": "ops@eumetsat.int",
     "service_provider": "EUMETSAT"
    },
    "jupyter": {
     "link": "https://jupyterhub.prod.wekeo2.eu/hub/user-redirect/lab/tree/public/wekeo4atmosphere/fire/30_CAMS_EAC4_retrieve.ipynb",
     "service_contact": "ops@eumetsat.int",
     "service_provider": "EUMETSAT"
    }
   }
  },
  "tags": {
   "domain": "Atmosphere",
   "service": "CAMS (Atmosphere)",
   "subtheme": "Fire",
   "tags": "Organic matter aerosol optical depth"
  },
  "title": "Retrieve CAMS global reanalysis (EAC4) data"
 },
 "nbformat": 4,
 "nbformat_minor": 4
}
