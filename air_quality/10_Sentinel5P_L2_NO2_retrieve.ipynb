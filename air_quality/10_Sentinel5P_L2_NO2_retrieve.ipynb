{
 "cells": [
  {
   "cell_type": "markdown",
   "metadata": {
    "heading_collapsed": "false"
   },
   "source": [
    "<img src='../img/LogoWekeo_Copernicus_RGB_0.png' alt='Logo EU Copernicus EUMETSAT' align='right' width='10%'></img>"
   ]
  },
  {
   "cell_type": "markdown",
   "metadata": {},
   "source": [
    "# Copernicus Sentinel-5 Precursor (Sentinel-5P) Level 2 Nitrogen Dioxide - Retrieve"
   ]
  },
  {
   "cell_type": "markdown",
   "metadata": {},
   "source": [
    "The example below illustrates step-by-step how the Copernicus Sentinel-5P Level 2 Nitrogen Dioxide (NO<sub>2</sub>) data product can be retrieved from WEkEO with the help of the [WEkEO HDA API client](https://github.com/ecmwf/hda). The notebook aims to retrieve Sentinel-5P Level 2 NO<sub>2</sub> data over Europe from 5 February 2021.\n",
    "\n",
    "The HDA API workflow is a six-step process:\n",
    " - [1. Install the WEkEO HDA API client](#wekeo_hda_install)\n",
    " - [2. Search for datasets on WEkEO](#wekeo_search)\n",
    " - [3. Get the API request](#wekeo_api_request)\n",
    " - [4. Configure the WEkEO API Authentication](#wekeo_hda_auth)\n",
    " - [5. Load data descriptor file and request data](#wekeo_json)\n",
    " - [6. Download requested data](#wekeo_download)\n",
    " \n",
    "All steps have to be performed in order to be able to retrieve data from WEkEO."
   ]
  },
  {
   "cell_type": "markdown",
   "metadata": {},
   "source": [
    "<hr>"
   ]
  },
  {
   "cell_type": "markdown",
   "metadata": {},
   "source": [
    "#### Load required libraries"
   ]
  },
  {
   "cell_type": "code",
   "execution_count": 1,
   "metadata": {},
   "outputs": [],
   "source": [
    "import json"
   ]
  },
  {
   "cell_type": "markdown",
   "metadata": {},
   "source": [
    "<hr>"
   ]
  },
  {
   "cell_type": "markdown",
   "metadata": {},
   "source": [
    "### <a id='wekeo_hda_install'></a>1. Install the WEkEO HDA API client"
   ]
  },
  {
   "cell_type": "markdown",
   "metadata": {},
   "source": [
    "The [WEkEO HDA API client](https://github.com/ecmwf/hda) is a Python library that can be used to search and download products using the Harmonized Data Access WEkEO API. You can install the WEkEO HDA API client via with the following command:\n",
    "\n",
    "*Note: once the package has successfully been installed, you might need to restart the kernel*."
   ]
  },
  {
   "cell_type": "code",
   "execution_count": 2,
   "metadata": {},
   "outputs": [
    {
     "name": "stdout",
     "output_type": "stream",
     "text": [
      "\u001b[33mWARNING: Ignoring invalid distribution - (/Users/julia_wagemann/.virtualenvs/myvenv/lib/python3.7/site-packages)\u001b[0m\u001b[33m\n",
      "\u001b[0m\u001b[33mWARNING: Ignoring invalid distribution -yaml (/Users/julia_wagemann/.virtualenvs/myvenv/lib/python3.7/site-packages)\u001b[0m\u001b[33m\n",
      "\u001b[0m\u001b[33mWARNING: Ignoring invalid distribution -yaml (/Users/julia_wagemann/.virtualenvs/myvenv/lib/python3.7/site-packages)\u001b[0m\u001b[33m\n",
      "\u001b[0m\u001b[33mWARNING: Ignoring invalid distribution -ix (/Users/julia_wagemann/.virtualenvs/myvenv/lib/python3.7/site-packages)\u001b[0m\u001b[33m\n",
      "\u001b[0m\u001b[33mWARNING: Ignoring invalid distribution -yyaml (/Users/julia_wagemann/.virtualenvs/myvenv/lib/python3.7/site-packages)\u001b[0m\u001b[33m\n",
      "\u001b[0m\u001b[33mWARNING: Ignoring invalid distribution -x (/Users/julia_wagemann/.virtualenvs/myvenv/lib/python3.7/site-packages)\u001b[0m\u001b[33m\n",
      "\u001b[0mRequirement already satisfied: hda in /Users/julia_wagemann/.virtualenvs/myvenv/lib/python3.7/site-packages (1.1)\n",
      "Collecting hda\n",
      "  Downloading hda-1.19.tar.gz (13 kB)\n",
      "  Installing build dependencies ... \u001b[?25ldone\n",
      "\u001b[?25h  Getting requirements to build wheel ... \u001b[?25ldone\n",
      "\u001b[?25h  Installing backend dependencies ... \u001b[?25ldone\n",
      "\u001b[?25h  Preparing metadata (pyproject.toml) ... \u001b[?25ldone\n",
      "\u001b[?25hRequirement already satisfied: requests>=2.5.0 in /Users/julia_wagemann/.virtualenvs/myvenv/lib/python3.7/site-packages (from hda) (2.31.0)\n",
      "Requirement already satisfied: tqdm in /Users/julia_wagemann/.virtualenvs/myvenv/lib/python3.7/site-packages (from hda) (4.40.0)\n",
      "Requirement already satisfied: charset-normalizer<4,>=2 in /Users/julia_wagemann/.virtualenvs/myvenv/lib/python3.7/site-packages (from requests>=2.5.0->hda) (3.3.2)\n",
      "Requirement already satisfied: idna<4,>=2.5 in /Users/julia_wagemann/.virtualenvs/myvenv/lib/python3.7/site-packages (from requests>=2.5.0->hda) (2.7)\n",
      "Requirement already satisfied: urllib3<3,>=1.21.1 in /Users/julia_wagemann/.virtualenvs/myvenv/lib/python3.7/site-packages (from requests>=2.5.0->hda) (1.23)\n",
      "Requirement already satisfied: certifi>=2017.4.17 in /Users/julia_wagemann/.virtualenvs/myvenv/lib/python3.7/site-packages (from requests>=2.5.0->hda) (2018.8.24)\n",
      "Building wheels for collected packages: hda\n",
      "  Building wheel for hda (pyproject.toml) ... \u001b[?25ldone\n",
      "\u001b[?25h  Created wheel for hda: filename=hda-1.19-py3-none-any.whl size=13922 sha256=e2d49af915044ae50d9c587f7cad691fc27d38f50b512662375b13811a9806e9\n",
      "  Stored in directory: /Users/julia_wagemann/Library/Caches/pip/wheels/23/ca/57/f0cdba5e531be240fb8f421e41cd13a4d66b303c62407ff552\n",
      "Successfully built hda\n",
      "\u001b[33mWARNING: Ignoring invalid distribution - (/Users/julia_wagemann/.virtualenvs/myvenv/lib/python3.7/site-packages)\u001b[0m\u001b[33m\n",
      "\u001b[0m\u001b[33mWARNING: Ignoring invalid distribution -yaml (/Users/julia_wagemann/.virtualenvs/myvenv/lib/python3.7/site-packages)\u001b[0m\u001b[33m\n",
      "\u001b[0m\u001b[33mWARNING: Ignoring invalid distribution -yaml (/Users/julia_wagemann/.virtualenvs/myvenv/lib/python3.7/site-packages)\u001b[0m\u001b[33m\n",
      "\u001b[0m\u001b[33mWARNING: Ignoring invalid distribution -ix (/Users/julia_wagemann/.virtualenvs/myvenv/lib/python3.7/site-packages)\u001b[0m\u001b[33m\n",
      "\u001b[0m\u001b[33mWARNING: Ignoring invalid distribution -yyaml (/Users/julia_wagemann/.virtualenvs/myvenv/lib/python3.7/site-packages)\u001b[0m\u001b[33m\n",
      "\u001b[0m\u001b[33mWARNING: Ignoring invalid distribution -x (/Users/julia_wagemann/.virtualenvs/myvenv/lib/python3.7/site-packages)\u001b[0m\u001b[33m\n",
      "\u001b[0m\u001b[33mDEPRECATION: celery 4.2.1 has a non-standard dependency specifier pytz>dev. pip 24.1 will enforce this behaviour change. A possible replacement is to upgrade to a newer version of celery or contact the author to suggest that they release a version with a conforming dependency specifiers. Discussion can be found at https://github.com/pypa/pip/issues/12063\u001b[0m\u001b[33m\n",
      "\u001b[0m\u001b[33mDEPRECATION: salem 0.2.2-12-g4d04d16 has a non-standard version number. pip 24.1 will enforce this behaviour change. A possible replacement is to upgrade to a newer version of salem or contact the author to suggest that they release a version with a conforming version number. Discussion can be found at https://github.com/pypa/pip/issues/12063\u001b[0m\u001b[33m\n",
      "\u001b[0mInstalling collected packages: hda\n",
      "  Attempting uninstall: hda\n",
      "    Found existing installation: hda 1.1\n",
      "    Uninstalling hda-1.1:\n",
      "      Successfully uninstalled hda-1.1\n",
      "Successfully installed hda-1.19\n",
      "Note: you may need to restart the kernel to use updated packages.\n"
     ]
    }
   ],
   "source": [
    "pip install -U hda"
   ]
  },
  {
   "cell_type": "markdown",
   "metadata": {},
   "source": [
    "#### Load the WEkEO HDA API client"
   ]
  },
  {
   "cell_type": "markdown",
   "metadata": {},
   "source": [
    "Once the package is installed, you can import it with the command `import hda`."
   ]
  },
  {
   "cell_type": "code",
   "execution_count": 3,
   "metadata": {},
   "outputs": [],
   "source": [
    "import hda"
   ]
  },
  {
   "cell_type": "markdown",
   "metadata": {},
   "source": [
    "<hr>"
   ]
  },
  {
   "cell_type": "markdown",
   "metadata": {},
   "source": [
    "### <a id='wekeo_search'></a>2. Search for datasets on WEkEO"
   ]
  },
  {
   "cell_type": "markdown",
   "metadata": {},
   "source": [
    "Under <a href='https://www.wekeo.eu/data' target=\"_blank\">WEkEO DATA</a>, you can search all datasets available on WEkEO. To add additional layers, you have to click on the `+` sign, which opens the `Catalogue` interface.\n",
    "There are two search options:<br> \n",
    "- a `free keyword search`, and \n",
    "- a pre-defined `predefined keyword search`, that helps to filter the data based on `area`, `platform`, `data provider` and more.<br> \n",
    "\n",
    "Under `PLATFORM`, you can select *`Sentinel-5P`* and retrieve the results. You can either directly add the data to the map or you can click on `Details`, which opens a dataset description.\n",
    "\n",
    "When you click on `Add to map...`, a window opens where you can select one specific variable of Sentinel-5P TROPOMI. \n",
    "\n",
    "<br>\n",
    "\n",
    "\n",
    "<img src='../img/wekeo_interface_s5p_1.png' width='90%' />"
   ]
  },
  {
   "cell_type": "markdown",
   "metadata": {},
   "source": [
    "### <a id='wekeo_api_request'></a>3. Get the API request"
   ]
  },
  {
   "cell_type": "markdown",
   "metadata": {},
   "source": [
    "When a layer is added to the map, you can select the download icon, which opens an interface that allows you to tailor your data request.\n",
    "For Sentinel-5P, the following information can be selected:\n",
    "* `Bounding box`\n",
    "* `Sensing start stop time`\n",
    "* `Processing level`\n",
    "* `Product type`\n",
    "* `Timeliness`\n",
    "\n",
    "Once you made your selection, you can either directly requet the data or you can click on `Show API request`, which opens a window with the HDA API request for the specific data selection.\n",
    "\n",
    "\n",
    "<br>\n",
    "\n",
    "\n",
    "<img src='../img/wekeo_interface_s5p_2.png' width='80%' />\n",
    "<br>\n"
   ]
  },
  {
   "cell_type": "markdown",
   "metadata": {},
   "source": [
    "`Copy` the API request and save it as a `JSON` file. We did the same and you can open the `data descriptor` file for Sentinel-5P [here](./s5P_data_descriptor.json)."
   ]
  },
  {
   "cell_type": "markdown",
   "metadata": {},
   "source": [
    "### <a id='wekeo_hda_auth'></a>4. Configure the WEkEO API Authentication"
   ]
  },
  {
   "cell_type": "markdown",
   "metadata": {},
   "source": [
    "### <a id='wekeo_hda_auth'></a>4. Configure the WEkEO API Authentication"
   ]
  },
  {
   "cell_type": "markdown",
   "metadata": {},
   "source": [
    "As a first step, make sure to register via the the [WEkEO registration page](https://my.wekeo.eu/web/guest/user-registration)."
   ]
  },
  {
   "cell_type": "markdown",
   "metadata": {},
   "source": [
    "In the next step, you can use your username and password and set your credentials. The HDA client requires your authentication to WEkEO. You can set your credentials with the function `hda.Configuration()`."
   ]
  },
  {
   "cell_type": "code",
   "execution_count": null,
   "metadata": {},
   "outputs": [],
   "source": [
    "c = hda.Client(hda.Configuration(user=\"#################\",\n",
    "                                 password=\"###############\"))"
   ]
  },
  {
   "cell_type": "markdown",
   "metadata": {},
   "source": [
    "### <a id='wekeo_json'></a>5. Load data descriptor file and request data"
   ]
  },
  {
   "cell_type": "markdown",
   "metadata": {},
   "source": [
    "The Harmonised Data Access API can read your data request from a `JSON` file. In this JSON-based file, you can describe the dataset you are interested in downloading. The file is in principle a dictionary. The following keys can be defined:\n",
    "- `datasetID`: the dataset's collection ID\n",
    "- `stringChoiceValues`: type of dataset, e.g. 'processing level' or 'product type'\n",
    "- `dataRangeSelectValues`: time period you would like to retrieve data\n",
    "- `boundingBoxValues`: optional to define a subset of a global field\n",
    "\n",
    "You can load the `JSON` file with `json.load()`."
   ]
  },
  {
   "cell_type": "code",
   "execution_count": 5,
   "metadata": {},
   "outputs": [
    {
     "data": {
      "text/plain": [
       "{'datasetId': 'EO:ESA:DAT:SENTINEL-5P:TROPOMI',\n",
       " 'boundingBoxValues': [{'name': 'bbox', 'bbox': [-24.32, 30, 45, 71.56]}],\n",
       " 'dateRangeSelectValues': [{'name': 'position',\n",
       "   'start': '2021-02-05T10:00:00.000Z',\n",
       "   'end': '2021-02-05T12:00:00.000Z'}],\n",
       " 'stringChoiceValues': [{'name': 'processingLevel', 'value': 'L2'},\n",
       "  {'name': 'productType', 'value': 'L2__NO2___'}]}"
      ]
     },
     "execution_count": 5,
     "metadata": {},
     "output_type": "execute_result"
    }
   ],
   "source": [
    "with open('./s5p_data_descriptor.json', 'r') as f:\n",
    "    data = json.load(f)\n",
    "data"
   ]
  },
  {
   "cell_type": "markdown",
   "metadata": {},
   "source": [
    "### <a id='wekeo_download'></a>6. Download requested data"
   ]
  },
  {
   "cell_type": "markdown",
   "metadata": {},
   "source": [
    "As a final step, you can use directly the client `c` to first search for available datasets with the function `search`."
   ]
  },
  {
   "cell_type": "code",
   "execution_count": 6,
   "metadata": {},
   "outputs": [
    {
     "name": "stdout",
     "output_type": "stream",
     "text": [
      "SearchResults[items=6,volume=0,jobId=RkXUKvUfveh_psJag2SyQ2I1zVk]\n"
     ]
    }
   ],
   "source": [
    "matches = c.search(data)\n",
    "print(matches)"
   ]
  },
  {
   "cell_type": "markdown",
   "metadata": {},
   "source": [
    "The dataset search above resulted in five datasets found. You can download the datasets with the function `download`. You can also specify a folder in which the datasets shall be downloaded to."
   ]
  },
  {
   "cell_type": "code",
   "execution_count": null,
   "metadata": {},
   "outputs": [],
   "source": [
    "matches.download('./data/')"
   ]
  },
  {
   "cell_type": "markdown",
   "metadata": {
    "heading_collapsed": "false"
   },
   "source": [
    "<br>"
   ]
  },
  {
   "cell_type": "markdown",
   "metadata": {},
   "source": [
    "Go to the next notebook ([11_Sentinel5P_L2_NO2_explore](./11_Sentinel5P_L2_NO2_explore.ipynb)) to see how you can load and visualise Sentinel-5P Level 2 Nitrogen Dioxide data."
   ]
  },
  {
   "cell_type": "markdown",
   "metadata": {
    "heading_collapsed": "false"
   },
   "source": [
    "<hr>"
   ]
  }
 ],
 "metadata": {
  "author": "Julia Wagemann",
  "description": "This notebook shows you how to retrieve Sentinel-5P TROPOMI Level 2 Nitrogen Dioxide data with the HDA API.",
  "image": "../img/img_04.png",
  "kernelspec": {
   "display_name": "Python 3",
   "language": "python",
   "name": "python3"
  },
  "language_info": {
   "codemirror_mode": {
    "name": "ipython",
    "version": 3
   },
   "file_extension": ".py",
   "mimetype": "text/x-python",
   "name": "python",
   "nbconvert_exporter": "python",
   "pygments_lexer": "ipython3",
   "version": "3.7.0"
  },
  "services": {
   "wekeo": {
    "git": {
     "link": "https://github.com/wekeo/wekeo4atmosphere/blob/main/air_quality/10_Sentinel5P_L2_NO2_retrieve.ipynb",
     "service_contact": "ops@eumetsat.int",
     "service_provider": "EUMETSAT"
    },
    "jupyter": {
     "link": "https://jupyterhub.prod.wekeo2.eu/hub/user-redirect/lab/tree/public/wekeo4atmosphere/air_quality/10_Sentinel5P_L2_NO2_retrieve.ipynb",
     "service_contact": "ops@eumetsat.int",
     "service_provider": "EUMETSAT"
    }
   }
  },
  "tags": {
   "domain": "Atmosphere",
   "platform": "Sentinel-5P",
   "sensor": "TROPOMI",
   "service": "ESA",
   "subtheme": "Air quality",
   "tags": "Nitrogen dioxide concentration (tropospheric column)"
  },
  "title": "Retrieve Sentinel-5P TROPOMI Level 2 Nitrogen Dioxide data"
 },
 "nbformat": 4,
 "nbformat_minor": 4
}
