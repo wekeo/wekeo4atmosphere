{
 "cells": [
  {
   "cell_type": "markdown",
   "metadata": {
    "heading_collapsed": "false"
   },
   "source": [
    "<img src='../img/LogoWekeo_Copernicus_RGB_0.png' alt='Logo EU Copernicus EUMETSAT' align='right' width='10%'></img>"
   ]
  },
  {
   "cell_type": "markdown",
   "metadata": {},
   "source": [
    "# Copernicus Atmosphere Monitoring Service (CAMS) European Air Quality Forecasts - Retrieve"
   ]
  },
  {
   "cell_type": "markdown",
   "metadata": {
    "heading_collapsed": "false"
   },
   "source": [
    "The example below illustrates step-by-step how European Air Quality Forecast data from the Copernicus Atmosphere Monitoring Service (CAMS) can be retrieved from WEkEO with the help of the [WEkEO HDA API client](https://github.com/ecmwf/hda). The notebook shows how to retrieve the forecast of  $$$.\n",
    "\n",
    "The HDA API workflow is a six-step process:\n",
    " - [1. Install the WEkEO HDA client](#wekeo_hda_install)\n",
    " - [2. Search for datasets on WEkEO](#wekeo_search)\n",
    " - [3. Get the API request](#wekeo_api_request)\n",
    " - [4. Configure the WEkEO API Authentication](#wekeo_hda_auth)\n",
    " - [5. Load data descriptor file and request data](#wekeo_json)\n",
    " - [6. Download requested data](#wekeo_download)"
   ]
  },
  {
   "cell_type": "markdown",
   "metadata": {},
   "source": [
    "All steps have to be performed in order to be able to retrieve data from WEkEO."
   ]
  },
  {
   "cell_type": "markdown",
   "metadata": {},
   "source": [
    "<hr>"
   ]
  },
  {
   "cell_type": "markdown",
   "metadata": {},
   "source": [
    "#### Load required libraries"
   ]
  },
  {
   "cell_type": "code",
   "execution_count": 1,
   "metadata": {},
   "outputs": [],
   "source": [
    "import json"
   ]
  },
  {
   "cell_type": "markdown",
   "metadata": {},
   "source": [
    "#### Load helper functions"
   ]
  },
  {
   "cell_type": "code",
   "execution_count": 4,
   "metadata": {},
   "outputs": [],
   "source": [
    "%run ../functions.ipynb"
   ]
  },
  {
   "cell_type": "markdown",
   "metadata": {},
   "source": [
    "<hr>"
   ]
  },
  {
   "cell_type": "markdown",
   "metadata": {},
   "source": [
    "### <a id='wekeo_hda_install'></a>1. Install the WEkEO HDA client"
   ]
  },
  {
   "cell_type": "markdown",
   "metadata": {},
   "source": [
    "The [WEkEO HDA API client](https://github.com/ecmwf/hda) is a Python library that can be used to search and download products using the Harmonized Data Access WEkEO API. You can install the WEkEO HDA API client via with the following command:"
   ]
  },
  {
   "cell_type": "code",
   "execution_count": null,
   "metadata": {},
   "outputs": [],
   "source": [
    "pip install -U hda"
   ]
  },
  {
   "cell_type": "markdown",
   "metadata": {
    "tags": []
   },
   "source": [
    "#### Load the WEkEO HDA API client"
   ]
  },
  {
   "cell_type": "markdown",
   "metadata": {},
   "source": [
    "Once the package is installed, you can import it."
   ]
  },
  {
   "cell_type": "code",
   "execution_count": 2,
   "metadata": {},
   "outputs": [],
   "source": [
    "import hda"
   ]
  },
  {
   "cell_type": "markdown",
   "metadata": {},
   "source": [
    "<hr>"
   ]
  },
  {
   "cell_type": "markdown",
   "metadata": {},
   "source": [
    "### <a id='wekeo_search'></a>2. Search for datasets on WEkEO"
   ]
  },
  {
   "cell_type": "markdown",
   "metadata": {},
   "source": [
    "Under [WEkEO DATA](https://www.wekeo.eu/data), you can search all datasets available on WEkEO. To add additional layers, you have to click on the `+` sign, which opens the `Catalogue` interface.\n",
    "There are two search options:<br> \n",
    "- a `free keyword search`, and \n",
    "- a pre-defined `predefined keyword search`, that helps to filter the data based on `area`, `platform`, `data provider` and more.<br> \n",
    "\n",
    "Under `COPERNICUS SERVICE`, you can select *`CAMS (Atmosphere)`* and retrieve several listings. For air quality forecasts, we are interested in the **CAMS European air quality forecasts** data. You can either directly add the data to the map or you can click on `Details`, which opens a dataset description.\n",
    "\n",
    " \n",
    "\n",
    "<br>\n",
    "\n",
    "<img src='../img/wekeo_interface_cams_eur_aq_1.png' width='70%'></img>"
   ]
  },
  {
   "cell_type": "markdown",
   "metadata": {},
   "source": [
    "### <a id='wekeo_api_request'></a>3. Get the API request"
   ]
  },
  {
   "cell_type": "markdown",
   "metadata": {},
   "source": [
    "When a layer is added to the map, you can select the download icon, which opens an interface that allows you to tailor your data request.\n",
    "For CAMS European air quality forecast data, the following information can be selected:\n",
    "* `Bounding box`\n",
    "* `Date`\n",
    "* `Variable`\n",
    "* `Model`\n",
    "* `Level`\n",
    "* `Type`\n",
    "* `Time`\n",
    "* `Leadtime hour`\n",
    "* `Format`\n",
    "\n",
    "Once you made your selection, you can either directly request the data or you can click on `Show API request`, which opens a window with the HDA API request for the specific data selection.\n",
    "\n",
    "\n",
    "<br>\n",
    "\n",
    "<img src='../img/wekeo_interface_cams_eur_aq_2.png' width='60%'></img>"
   ]
  },
  {
   "cell_type": "markdown",
   "metadata": {},
   "source": [
    "`Copy` the API request and save it as a `JSON` file. We did the same and you can open the `data descriptor` file for CAMS European air quality forecast [here](./cams_european_air_quality_forecast_data_descriptor.json)."
   ]
  },
  {
   "cell_type": "markdown",
   "metadata": {},
   "source": [
    "<br>"
   ]
  },
  {
   "cell_type": "markdown",
   "metadata": {},
   "source": [
    "### <a id='wekeo_api_key'></a>4. Get the WEkEO API key"
   ]
  },
  {
   "cell_type": "markdown",
   "metadata": {},
   "source": [
    "As a first step, make sure to register via the the [WEkEO registration page](https://my.wekeo.eu/web/guest/user-registratio)."
   ]
  },
  {
   "cell_type": "markdown",
   "metadata": {},
   "source": [
    "In the next step, you can use your username and password and set your credentials. The HDA client requires your authentication to WEkEO. You can set your credentials with the function `hda.Configuration()`."
   ]
  },
  {
   "cell_type": "code",
   "execution_count": null,
   "metadata": {},
   "outputs": [],
   "source": [
    "c = hda.Client(hda.Configuration(user=\"##################\",\n",
    "                                 password=\"##################\"))"
   ]
  },
  {
   "cell_type": "markdown",
   "metadata": {},
   "source": [
    "<br>"
   ]
  },
  {
   "cell_type": "markdown",
   "metadata": {},
   "source": [
    "### <a id='wekeo_json'></a>5. Load data descriptor file and request data"
   ]
  },
  {
   "cell_type": "markdown",
   "metadata": {},
   "source": [
    "The Harmonised Data Access API can read your data request from a `JSON` file. In this JSON-based file, you can describe the dataset you are interested in downloading. The file is in principle a dictionary. The following keys can be defined:\n",
    "- `datasetID`: the dataset's collection ID\n",
    "- `stringChoiceValues`: type of dataset, e.g. 'processing level' or 'product type'\n",
    "- `dataRangeSelectValues`: time period you would like to retrieve data\n",
    "- `boundingBoxValues`: optional to define a subset of a global field\n",
    "\n",
    "You can load the `JSON` file with `json.load()`."
   ]
  },
  {
   "cell_type": "code",
   "execution_count": 4,
   "metadata": {},
   "outputs": [
    {
     "data": {
      "text/plain": [
       "{'datasetId': 'EO:ECMWF:DAT:CAMS_EUROPE_AIR_QUALITY_FORECASTS',\n",
       " 'boundingBoxValues': [{'name': 'area', 'bbox': [-24.32, 71.56, 45, 30]}],\n",
       " 'dateRangeSelectValues': [{'name': 'date',\n",
       "   'start': '2021-02-04T00:00:00.000Z',\n",
       "   'end': '2021-02-04T00:00:00.000Z'}],\n",
       " 'multiStringSelectValues': [{'name': 'model', 'value': ['ensemble']},\n",
       "  {'name': 'variable', 'value': ['nitrogen_dioxide']},\n",
       "  {'name': 'type', 'value': ['forecast']},\n",
       "  {'name': 'level', 'value': ['0']},\n",
       "  {'name': 'leadtime_hour',\n",
       "   'value': ['0',\n",
       "    '6',\n",
       "    '12',\n",
       "    '18',\n",
       "    '24',\n",
       "    '30',\n",
       "    '36',\n",
       "    '42',\n",
       "    '48',\n",
       "    '54',\n",
       "    '60',\n",
       "    '66',\n",
       "    '72']},\n",
       "  {'name': 'time', 'value': ['00:00']}],\n",
       " 'stringChoiceValues': [{'name': 'format', 'value': 'netcdf'}]}"
      ]
     },
     "execution_count": 4,
     "metadata": {},
     "output_type": "execute_result"
    }
   ],
   "source": [
    "with open('./cams_european_air_quality_forecast_data_descriptor.json', 'r') as f:\n",
    "    data = json.load(f)\n",
    "data"
   ]
  },
  {
   "cell_type": "markdown",
   "metadata": {},
   "source": [
    "### <a id='wekeo_download'></a>6. Download requested data"
   ]
  },
  {
   "cell_type": "markdown",
   "metadata": {},
   "source": [
    "As a final step, you can use directly the client `c` to first search for available datasets with the function `search`."
   ]
  },
  {
   "cell_type": "code",
   "execution_count": 5,
   "metadata": {},
   "outputs": [
    {
     "name": "stdout",
     "output_type": "stream",
     "text": [
      "SearchResults[items=1,volume=14.3MB,jobId=PAykN1EMLsdde2ZTNL6GRJGQUg8]\n"
     ]
    }
   ],
   "source": [
    "matches = c.search(data)\n",
    "print(matches)"
   ]
  },
  {
   "cell_type": "markdown",
   "metadata": {},
   "source": [
    "The dataset search above resulted in one dataset found. You can download the dataset with the function `download`. You can also specify a folder in which the datasets shall be downloaded to."
   ]
  },
  {
   "cell_type": "code",
   "execution_count": 6,
   "metadata": {},
   "outputs": [
    {
     "name": "stderr",
     "output_type": "stream",
     "text": [
      "                                                    \r"
     ]
    }
   ],
   "source": [
    "matches.download('./data/')"
   ]
  },
  {
   "cell_type": "markdown",
   "metadata": {},
   "source": [
    "Go to the next notebook ([21_CAMS_European_air_quality_forecast_NO2_explore](./21_CAMS_European_air_quality_forecast_NO2_explore.ipynb)) to see how you can load and visualise CAMS European air quality forecast data."
   ]
  },
  {
   "cell_type": "markdown",
   "metadata": {
    "heading_collapsed": "false"
   },
   "source": [
    "<hr>"
   ]
  }
 ],
 "metadata": {
  "author": "Julia Wagemann",
  "description": "This notebook shows you how to retrieve CAMS European air quality forecast data with the HDA API.",
  "github": "https://github.com/wekeo/wekeo4atmosphere/blob/main/air_quality/20_CAMS_European_air_quality_forecast_NO2_retrieve.ipynb",
  "image": "../img/img_05.png",
  "kernelspec": {
   "display_name": "Python 3",
   "language": "python",
   "name": "python3"
  },
  "language_info": {
   "codemirror_mode": {
    "name": "ipython",
    "version": 3
   },
   "file_extension": ".py",
   "mimetype": "text/x-python",
   "name": "python",
   "nbconvert_exporter": "python",
   "pygments_lexer": "ipython3",
   "version": "3.7.0"
  },
  "deployment": {
   "wekeo": {
    "git": {
     "link": "https://github.com/wekeo/wekeo4atmosphere/blob/main/air_quality/20_CAMS_European_air_quality_forecast_NO2_retrieve.ipynb",
     "service_contact": "ops@eumetsat.int",
     "service_provider": "EUMETSAT"
    },
    "url": {
     "link": "https://jupyterhub.prod.wekeo2.eu/hub/user-redirect/lab/tree/public/wekeo4atmosphere/air_quality/20_CAMS_European_air_quality_forecast_NO2_retrieve.ipynb",
     "service_contact": "ops@eumetsat.int",
     "service_provider": "EUMETSAT"
    }
   }
  },
  "tags": {
   "theme": "Atmosphere",
   "data_provider": "CAMS (Atmosphere)",
   "subtheme": "Air quality",
   "variable": "Nitrogen dioxide concentration (total column)"
  },
  "title": "Retrieve CAMS European air quality forecast data",
  "version": "1.0.0",
  "version_date": "8.10.2024"
 },
 "nbformat": 4,
 "nbformat_minor": 4
}
